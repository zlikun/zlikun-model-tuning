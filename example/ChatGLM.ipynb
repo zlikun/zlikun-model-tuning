{
 "cells": [
  {
   "cell_type": "code",
   "execution_count": 7,
   "metadata": {},
   "outputs": [
    {
     "name": "stdout",
     "output_type": "stream",
     "text": [
      "{'question': '请用 python 实现两数之和', 'response': '以下是在 Python 中实现两数之和的简单示例代码:\\n\\n```python\\n# 获取用户输入的两个数字\\nnum1 = float(input(\"请输入第一个数字: \"))\\nnum2 = float(input(\"请输入第二个数字: \"))\\n\\n# 计算两数之和\\nsum = num1 + num2\\n\\n# 输出结果\\nprint(\"两数之和为: \", sum)\\n```\\n\\n运行此程序后,用户将被提示输入两个数字,然后程序将对输入的数字进行计算并输出结果。请注意,此程序假定用户输入的数字是浮点数类型。如果需要处理整数类型的输入,请将 `float` 替换为 `int` 并使用 `/` 运算符而不是 `+` 运算符。', 'history': [['请用 python 实现两数之和', '以下是在 Python 中实现两数之和的简单示例代码:\\n\\n```python\\n# 获取用户输入的两个数字\\nnum1 = float(input(\"请输入第一个数字: \"))\\nnum2 = float(input(\"请输入第二个数字: \"))\\n\\n# 计算两数之和\\nsum = num1 + num2\\n\\n# 输出结果\\nprint(\"两数之和为: \", sum)\\n```\\n\\n运行此程序后,用户将被提示输入两个数字,然后程序将对输入的数字进行计算并输出结果。请注意,此程序假定用户输入的数字是浮点数类型。如果需要处理整数类型的输入,请将 `float` 替换为 `int` 并使用 `/` 运算符而不是 `+` 运算符。']], 'source_documents': []}\n"
     ]
    }
   ],
   "source": [
    "import requests\n",
    "\n",
    "\n",
    "api_uri_prefix = 'https://u133096-8050-da7f0768.neimeng.seetacloud.com:6443'\n",
    "\n",
    "headers = {\n",
    "    'Content-Type': 'application/json',\n",
    "    'Accept': 'application/json'\n",
    "}\n",
    "\n",
    "r = requests.post(f'{api_uri_prefix}/chat', headers=headers, json={\n",
    "    \"knowledge_base_id\": \"string\",\n",
    "    \"question\": \"请用 python 实现两数之和\",\n",
    "    \"history\": []\n",
    "})\n",
    "\n",
    "print(r.json())\n"
   ]
  },
  {
   "cell_type": "code",
   "execution_count": null,
   "metadata": {},
   "outputs": [],
   "source": []
  },
  {
   "cell_type": "code",
   "execution_count": null,
   "metadata": {},
   "outputs": [],
   "source": []
  },
  {
   "cell_type": "code",
   "execution_count": null,
   "metadata": {},
   "outputs": [],
   "source": []
  }
 ],
 "metadata": {
  "kernelspec": {
   "display_name": "Python 3",
   "language": "python",
   "name": "python3"
  },
  "language_info": {
   "codemirror_mode": {
    "name": "ipython",
    "version": 3
   },
   "file_extension": ".py",
   "mimetype": "text/x-python",
   "name": "python",
   "nbconvert_exporter": "python",
   "pygments_lexer": "ipython3",
   "version": "3.11.3"
  },
  "orig_nbformat": 4
 },
 "nbformat": 4,
 "nbformat_minor": 2
}
