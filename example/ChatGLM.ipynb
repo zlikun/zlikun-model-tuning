{
 "cells": [
  {
   "cell_type": "code",
   "execution_count": 68,
   "metadata": {},
   "outputs": [
    {
     "data": {
      "text/plain": [
       "{'question': '请用 python 实现两数之和',\n",
       " 'response': '以下是在 Python 中实现两数之和的简单示例代码:\\n\\n```python\\n# 获取用户输入的两个数字\\nnum1 = float(input(\"请输入第一个数字: \"))\\nnum2 = float(input(\"请输入第二个数字: \"))\\n\\n# 计算两数之和\\nsum = num1 + num2\\n\\n# 输出结果\\nprint(\"两数之和为: \", sum)\\n```\\n\\n运行此程序后,用户将被提示输入两个数字,然后程序将对输入的数字进行计算并输出结果。请注意,此程序假定用户输入的数字是浮点数类型。如果需要处理整数类型的输入,请将 `float` 替换为 `int` 并使用 `/` 运算符而不是 `+` 运算符。',\n",
       " 'history': [['请用 python 实现两数之和',\n",
       "   '以下是在 Python 中实现两数之和的简单示例代码:\\n\\n```python\\n# 获取用户输入的两个数字\\nnum1 = float(input(\"请输入第一个数字: \"))\\nnum2 = float(input(\"请输入第二个数字: \"))\\n\\n# 计算两数之和\\nsum = num1 + num2\\n\\n# 输出结果\\nprint(\"两数之和为: \", sum)\\n```\\n\\n运行此程序后,用户将被提示输入两个数字,然后程序将对输入的数字进行计算并输出结果。请注意,此程序假定用户输入的数字是浮点数类型。如果需要处理整数类型的输入,请将 `float` 替换为 `int` 并使用 `/` 运算符而不是 `+` 运算符。']],\n",
       " 'source_documents': []}"
      ]
     },
     "execution_count": 68,
     "metadata": {},
     "output_type": "execute_result"
    }
   ],
   "source": [
    "import requests\n",
    "\n",
    "\n",
    "api_uri_prefix = 'https://u133096-8050-da7f0768.neimeng.seetacloud.com:6443'\n",
    "\n",
    "headers = {\n",
    "    'Content-Type': 'application/json',\n",
    "    'Accept': 'application/json'\n",
    "}\n",
    "\n",
    "r = requests.post(f'{api_uri_prefix}/chat', headers=headers, json={\n",
    "    \"knowledge_base_id\": \"foo\",\n",
    "    \"question\": \"请用 python 实现两数之和\",\n",
    "    \"history\": []\n",
    "})\n",
    "\n",
    "r.json()\n"
   ]
  },
  {
   "cell_type": "code",
   "execution_count": null,
   "metadata": {},
   "outputs": [],
   "source": []
  },
  {
   "cell_type": "code",
   "execution_count": 118,
   "metadata": {},
   "outputs": [
    {
     "data": {
      "text/plain": [
       "{'code': 200, 'msg': 'success', 'data': ['samples', 'foo']}"
      ]
     },
     "execution_count": 118,
     "metadata": {},
     "output_type": "execute_result"
    }
   ],
   "source": [
    "# 获取知识库列表\n",
    "r = requests.get(f'{api_uri_prefix}/local_doc_qa/list_knowledge_base')\n",
    "r.json()\n"
   ]
  },
  {
   "cell_type": "code",
   "execution_count": 128,
   "metadata": {},
   "outputs": [
    {
     "data": {
      "text/plain": [
       "{'code': 200, 'msg': '文件 kefuqa-01.txt 已上传至新的知识库，并已加载知识库，请开始提问。'}"
      ]
     },
     "execution_count": 128,
     "metadata": {},
     "output_type": "execute_result"
    }
   ],
   "source": [
    "# 上传文件到知识库\n",
    "r = requests.post(f'{api_uri_prefix}/local_doc_qa/upload_file',\n",
    "                  files={'file': open(r'./data/splitter/kefuqa-01.txt',\n",
    "                                      'r', encoding='utf-8')},\n",
    "                  data={\"knowledge_base_id\": \"foo\", })\n",
    "\n",
    "r.json()\n"
   ]
  },
  {
   "cell_type": "code",
   "execution_count": 114,
   "metadata": {},
   "outputs": [
    {
     "data": {
      "text/plain": [
       "{'question': '更新不了',\n",
       " 'response': '很抱歉,我不太明白您的问题或需要什么样的更新。请提供更多上下文和细节,这样我才能更好地回答您的问题或提供帮助。',\n",
       " 'history': [['更新不了',\n",
       "   '很抱歉,我不太明白您的问题或需要什么样的更新。请提供更多上下文和细节,这样我才能更好地回答您的问题或提供帮助。']],\n",
       " 'source_documents': []}"
      ]
     },
     "execution_count": 114,
     "metadata": {},
     "output_type": "execute_result"
    }
   ],
   "source": [
    "# 与知识库对话\n",
    "r = requests.post(f'{api_uri_prefix}/local_doc_qa/local_doc_chat', headers=headers, json={\n",
    "    \"knowledge_base_id\": \"foo\",\n",
    "    \"question\": \"下载不了\",\n",
    "    \"history\": []\n",
    "})\n",
    "\n",
    "r.json()\n"
   ]
  },
  {
   "cell_type": "code",
   "execution_count": null,
   "metadata": {},
   "outputs": [],
   "source": []
  },
  {
   "cell_type": "code",
   "execution_count": 129,
   "metadata": {},
   "outputs": [
    {
     "data": {
      "text/plain": [
       "{'code': 200, 'msg': '文件 kefuqa-02.txt 已上传至新的知识库，并已加载知识库，请开始提问。'}"
      ]
     },
     "execution_count": 129,
     "metadata": {},
     "output_type": "execute_result"
    }
   ],
   "source": [
    "# 上传文件到知识库\n",
    "r = requests.post(f'{api_uri_prefix}/local_doc_qa/upload_file',\n",
    "                  files={'file': open(r'./data/splitter/kefuqa-02.txt',\n",
    "                                      'r', encoding='utf-8')},\n",
    "                  data={\"knowledge_base_id\": \"foo\", })\n",
    "\n",
    "r.json()\n"
   ]
  },
  {
   "cell_type": "code",
   "execution_count": 90,
   "metadata": {},
   "outputs": [
    {
     "data": {
      "text/plain": [
       "{'code': 200, 'msg': 'success', 'data': ['kefuqa-02.txt']}"
      ]
     },
     "execution_count": 90,
     "metadata": {},
     "output_type": "execute_result"
    }
   ],
   "source": [
    "# 获取知识库内文件列表\n",
    "r = requests.get(\n",
    "    f'{api_uri_prefix}/local_doc_qa/list_files?knowledge_base_id=foo')\n",
    "r.json()\n"
   ]
  },
  {
   "cell_type": "code",
   "execution_count": 125,
   "metadata": {},
   "outputs": [
    {
     "data": {
      "text/plain": [
       "{'code': 404, 'msg': 'Knowledge base foo not found'}"
      ]
     },
     "execution_count": 125,
     "metadata": {},
     "output_type": "execute_result"
    }
   ],
   "source": [
    "r = requests.delete(\n",
    "    f'{api_uri_prefix}/local_doc_qa/delete_file?knowledge_base_id=foo&doc_name=kefuqa-01.txt')\n",
    "r.json()\n"
   ]
  },
  {
   "cell_type": "code",
   "execution_count": 120,
   "metadata": {},
   "outputs": [
    {
     "data": {
      "text/plain": [
       "{'question': '怎样实名认证',\n",
       " 'response': '实名认证通常需要提供身份证明文件作为验证依据,具体可以参考下述步骤:\\n1. 确认身份:在网站或应用程序上,需要提供身份证明文件以证明自己的身份。\\n2. 选择认证方式:不同的网站或应用程序可能有不同的实名认证方式,例如通过电子邮件、电话、短信验证码、指纹识别或人脸识别等方式。\\n3. 提供身份证明文件:根据选择的认证方式,需要提供相应的身份证明文件。例如,如果选择通过电子邮件验证身份,需要提供电子邮件地址和密码。\\n4. 验证身份证明文件:网站或应用程序需要验证身份证明文件的有效性和真实性。这可能需要进行身份验证程序,例如通过电话、短信或邮件发送验证码,或通过指纹识别或人脸识别等方法。\\n5. 授权登录:如果身份证明文件被验证为有效和真实,就可以授权登录到网站或应用程序。\\n请注意,不同的网站或应用程序可能有不同的实名认证要求,因此请参阅相关网站或应用程序的说明文件,了解详细信息。',\n",
       " 'history': [['怎样实名认证',\n",
       "   '实名认证通常需要提供身份证明文件作为验证依据,具体可以参考下述步骤:\\n1. 确认身份:在网站或应用程序上,需要提供身份证明文件以证明自己的身份。\\n2. 选择认证方式:不同的网站或应用程序可能有不同的实名认证方式,例如通过电子邮件、电话、短信验证码、指纹识别或人脸识别等方式。\\n3. 提供身份证明文件:根据选择的认证方式,需要提供相应的身份证明文件。例如,如果选择通过电子邮件验证身份,需要提供电子邮件地址和密码。\\n4. 验证身份证明文件:网站或应用程序需要验证身份证明文件的有效性和真实性。这可能需要进行身份验证程序,例如通过电话、短信或邮件发送验证码,或通过指纹识别或人脸识别等方法。\\n5. 授权登录:如果身份证明文件被验证为有效和真实,就可以授权登录到网站或应用程序。\\n请注意,不同的网站或应用程序可能有不同的实名认证要求,因此请参阅相关网站或应用程序的说明文件,了解详细信息。']],\n",
       " 'source_documents': []}"
      ]
     },
     "execution_count": 120,
     "metadata": {},
     "output_type": "execute_result"
    }
   ],
   "source": [
    "# 与知识库对话\n",
    "r = requests.post(f'{api_uri_prefix}/local_doc_qa/local_doc_chat', headers=headers, json={\n",
    "    \"knowledge_base_id\": \"foo\",\n",
    "    \"question\": \"怎样实名认证\",\n",
    "    \"history\": []\n",
    "})\n",
    "\n",
    "r.json()\n"
   ]
  },
  {
   "cell_type": "code",
   "execution_count": 101,
   "metadata": {},
   "outputs": [
    {
     "data": {
      "text/plain": [
       "{'question': '实名失败',\n",
       " 'response': '根据已知信息，实名认证失败是指在完成支付宝/支付宝的实名认证时，没有通过审核。具体的解决方法是尝试第二种实名认证方式：港澳台（大陆身份证也可以），上传身份证照片，并按照审核要求进行操作。如果审核通过，即可成功认证。',\n",
       " 'history': [['实名失败',\n",
       "   '根据已知信息，实名认证失败是指在完成支付宝/支付宝的实名认证时，没有通过审核。具体的解决方法是尝试第二种实名认证方式：港澳台（大陆身份证也可以），上传身份证照片，并按照审核要求进行操作。如果审核通过，即可成功认证。']],\n",
       " 'source_documents': ['出处 [1] kefuqa-02.txt：\\n\\n实名认证：实名认证失败。$$没有支付宝/支付宝实名认证失败，可选择第二种实名认证方式：港澳台（大陆身份证也可以），上传身份证照片，预计一个工作日等待审核通过后即可认证成功；审核照片要求：第一张为【身份证件个人信息页照片】；第二张为人证合一手持身份证个人信息页自拍照，确保证件信息展示完整、清晰无遮挡，个人五官展示完整；第三张为【身份证国徽面】，请确保证件四角边际展示完整，上下左右均有留白。 实名失败。$$没有支付宝/支付宝实名认证失败，可选择第二种实名认证方式：港澳台（大陆身份证也可以），上传身份证照片，预计一个工作日等待审核通过后即可认证成功；审核照片要求：第一张为【身份证件个人信息页照片】；第二张为人证合一手持身份证个人信息页自拍照，确保证件信息展示完整、清晰无遮挡，个人五官展示完整；第三张为【身份证国徽面】，请确保证件四角边际展示完整，上下左右均有留白。\\n\\n相关度：748\\n\\n',\n",
       "  '出处 [2] kefuqa-02.txt：\\n\\n实名认证失败啥意思。$$没有支付宝/支付宝实名认证失败，可选择第二种实名认证方式：港澳台（大陆身份证也可以），上传身份证照片，预计一个工作日等待审核通过后即可认证成功；审核照片要求：第一张为【身份证件个人信息页照片】；第二张为人证合一手持身份证个人信息页自拍照，确保证件信息展示完整、清晰无遮挡，个人五官展示完整；第三张为【身份证国徽面】，请确保证件四角边际展示完整，上下左右均有留白。\\n\\n相关度：744\\n\\n',\n",
       "  '出处 [3] kefuqa-02.txt：\\n\\n为啥实名认证失败呀。$$没有支付宝/支付宝实名认证失败，可选择第二种实名认证方式：港澳台（大陆身份证也可以），上传身份证照片，预计一个工作日等待审核通过后即可认证成功；审核照片要求：第一张为【身份证件个人信息页照片】；第二张为人证合一手持身份证个人信息页自拍照，确保证件信息展示完整、清晰无遮挡，个人五官展示完整；第三张为【身份证国徽面】，请确保证件四角边际展示完整，上下左右均有留白。 实名验证失败是怎么回事。$$没有支付宝/支付宝实名认证失败，可选择第二种实名认证方式：港澳台（大陆身份证也可以），上传身份证照片，预计一个工作日等待审核通过后即可认证成功；审核照片要求：第一张为【身份证件个人信息页照片】；第二张为人证合一手持身份证个人信息页自拍照，确保证件信息展示完整、清晰无遮挡，个人五官展示完整；第三张为【身份证国徽面】，请确保证件四角边际展示完整，上下左右均有留白。\\n\\n相关度：741\\n\\n']}"
      ]
     },
     "execution_count": 101,
     "metadata": {},
     "output_type": "execute_result"
    }
   ],
   "source": [
    "# 与知识库对话\n",
    "r = requests.post(f'{api_uri_prefix}/local_doc_qa/local_doc_chat', headers=headers, json={\n",
    "    \"knowledge_base_id\": \"foo\",\n",
    "    \"question\": \"实名失败\",\n",
    "    \"history\": []\n",
    "})\n",
    "\n",
    "r.json()\n"
   ]
  },
  {
   "cell_type": "code",
   "execution_count": 103,
   "metadata": {},
   "outputs": [
    {
     "data": {
      "text/plain": [
       "{'question': '昨晚没睡好',\n",
       " 'response': '抱歉，根据已知信息无法回答该问题。',\n",
       " 'history': [['昨晚没睡好', '抱歉，根据已知信息无法回答该问题。']],\n",
       " 'source_documents': ['出处 [1] kefuqa-02.txt：\\n\\n能不用支付宝认认证吗。$$没有支付宝/支付宝实名认证失败，可选择第二种实名认证方式：港澳台（大陆身份证也可以），上传身份证照片，预计一个工作日等待审核通过后即可认证成功；审核照片要求：第一张为【身份证件个人信息页照片】；第二张为人证合一手持身份证个人信息页自拍照，确保证件信息展示完整、清晰无遮挡，个人五官展示完整；第三张为【身份证国徽面】，请确保证件四角边际展示完整，上下左右均有留白。 为什么实名认证过不去人脸。$$没有支付宝/支付宝实名认证失败，可选择第二种实名认证方式：港澳台（大陆身份证也可以），上传身份证照片，预计一个工作日等待审核通过后即可认证成功；审核照片要求：第一张为【身份证件个人信息页照片】；第二张为人证合一手持身份证个人信息页自拍照，确保证件信息展示完整、清晰无遮挡，个人五官展示完整；第三张为【身份证国徽面】，请确保证件四角边际展示完整，上下左右均有留白。\\n\\n相关度：1055\\n\\n',\n",
       "  '出处 [2] kefuqa-02.txt：\\n\\n实名认证失败啥意思。$$没有支付宝/支付宝实名认证失败，可选择第二种实名认证方式：港澳台（大陆身份证也可以），上传身份证照片，预计一个工作日等待审核通过后即可认证成功；审核照片要求：第一张为【身份证件个人信息页照片】；第二张为人证合一手持身份证个人信息页自拍照，确保证件信息展示完整、清晰无遮挡，个人五官展示完整；第三张为【身份证国徽面】，请确保证件四角边际展示完整，上下左右均有留白。\\n\\n相关度：1064\\n\\n',\n",
       "  '出处 [3] kefuqa-02.txt：\\n\\n实名认证我刚成年，然后支付宝还没有绑定，该怎么整？$$没有支付宝/支付宝实名认证失败，可选择第二种实名认证方式：港澳台（大陆身份证也可以），上传身份证照片，预计一个工作日等待审核通过后即可认证成功；审核照片要求：第一张为【身份证件个人信息页照片】；第二张为人证合一手持身份证个人信息页自拍照，确保证件信息展示完整、清晰无遮挡，个人五官展示完整；第三张为【身份证国徽面】，请确保证件四角边际展示完整，上下左右均有留白。\\n\\n相关度：1040\\n\\n',\n",
       "  '出处 [4] kefuqa-02.txt：\\n\\n没有支付宝怎么办？$$没有支付宝/支付宝实名认证失败，可选择第二种实名认证方式：港澳台（大陆身份证也可以），上传身份证照片，预计一个工作日等待审核通过后即可认证成功；审核照片要求：第一张为【身份证件个人信息页照片】；第二张为人证合一手持身份证个人信息页自拍照，确保证件信息展示完整、清晰无遮挡，个人五官展示完整；第三张为【身份证国徽面】，请确保证件四角边际展示完整，上下左右均有留白。\\n\\n相关度：1064\\n\\n']}"
      ]
     },
     "execution_count": 103,
     "metadata": {},
     "output_type": "execute_result"
    }
   ],
   "source": [
    "# 与知识库对话\n",
    "r = requests.post(f'{api_uri_prefix}/local_doc_qa/local_doc_chat', headers=headers, json={\n",
    "    \"knowledge_base_id\": \"foo\",\n",
    "    \"question\": \"昨晚没睡好\",\n",
    "    \"history\": []\n",
    "})\n",
    "\n",
    "r.json()\n"
   ]
  },
  {
   "cell_type": "code",
   "execution_count": null,
   "metadata": {},
   "outputs": [],
   "source": []
  },
  {
   "cell_type": "code",
   "execution_count": 63,
   "metadata": {},
   "outputs": [
    {
     "data": {
      "text/plain": [
       "['实名认证：实名认证失败 $$ 没有支付宝/支付宝实名认证失败，可选择第二种实名认证方式：港澳台（大陆身份证也可以），上传身份证照片，预计一个工作日等待审核通过后即可认证成功；',\n",
       " '审核照片要求：第一张为【身份证件个人信息页照片】；',\n",
       " '第二张为人证合一手持身份证个人信息页自拍照，确保证件信息展示完整、清晰无遮挡，个人五官展示完整；',\n",
       " '第三张为【身份证国徽面】，请确保证件四角边际展示完整，上下左右均有留白。',\n",
       " '实名失败 $$ 没有支付宝/支付宝实名认证失败，可选择第二种实名认证方式：港澳台（大陆身份证也可以），上传身份证照片，预计一个工作日等待审核通过后即可认证成功；',\n",
       " '审核照片要求：第一张为【身份证件个人信息页照片】；',\n",
       " '第二张为人证合一手持身份证个人信息页自拍照，确保证件信息展示完整、清晰无遮挡，个人五官展示完整；',\n",
       " '第三张为【身份证国徽面】，请确保证件四角边际展示完整，上下左右均有留白。',\n",
       " '能不用支付宝认认证吗 $$ 没有支付宝/支付宝实名认证失败，可选择第二种实名认证方式：港澳台（大陆身份证也可以），上传身份证照片，预计一个工作日等待审核通过后即可认证成功；',\n",
       " '审核照片要求：第一张为【身份证件个人信息页照片】；',\n",
       " '第二张为人证合一手持身份证个人信息页自拍照，确保证件信息展示完整、清晰无遮挡，个人五官展示完整；',\n",
       " '第三张为【身份证国徽面】，请确保证件四角边际展示完整，上下左右均有留白。',\n",
       " '为什么实名认证过不去人脸 $$ 没有支付宝/支付宝实名认证失败，可选择第二种实名认证方式：港澳台（大陆身份证也可以），上传身份证照片，预计一个工作日等待审核通过后即可认证成功；',\n",
       " '审核照片要求：第一张为【身份证件个人信息页照片】；',\n",
       " '第二张为人证合一手持身份证个人信息页自拍照，确保证件信息展示完整、清晰无遮挡，个人五官展示完整；',\n",
       " '第三张为【身份证国徽面】，请确保证件四角边际展示完整，上下左右均有留白。',\n",
       " '为什么身份验证失败 $$ 没有支付宝/支付宝实名认证失败，可选择第二种实名认证方式：港澳台（大陆身份证也可以），上传身份证照片，预计一个工作日等待审核通过后即可认证成功；',\n",
       " '审核照片要求：第一张为【身份证件个人信息页照片】；',\n",
       " '第二张为人证合一手持身份证个人信息页自拍照，确保证件信息展示完整、清晰无遮挡，个人五官展示完整；',\n",
       " '第三张为【身份证国徽面】，请确保证件四角边际展示完整，上下左右均有留白。',\n",
       " '实名认证失败啥意思 $$ 没有支付宝/支付宝实名认证失败，可选择第二种实名认证方式：港澳台（大陆身份证也可以），上传身份证照片，预计一个工作日等待审核通过后即可认证成功；',\n",
       " '审核照片要求：第一张为【身份证件个人信息页照片】；',\n",
       " '第二张为人证合一手持身份证个人信息页自拍照，确保证件信息展示完整、清晰无遮挡，个人五官展示完整；',\n",
       " '第三张为【身份证国徽面】，请确保证件四角边际展示完整，上下左右均有留白。',\n",
       " '我可以不用人脸识别吗 $$ 没有支付宝/支付宝实名认证失败，可选择第二种实名认证方式：港澳台（大陆身份证也可以），上传身份证照片，预计一个工作日等待审核通过后即可认证成功；',\n",
       " '审核照片要求：第一张为【身份证件个人信息页照片】；',\n",
       " '第二张为人证合一手持身份证个人信息页自拍照，确保证件信息展示完整、清晰无遮挡，个人五官展示完整；',\n",
       " '第三张为【身份证国徽面】，请确保证件四角边际展示完整，上下左右均有留白。',\n",
       " '实名认证我刚成年，然后支付宝还没有绑定，该怎么整 $$ 没有支付宝/支付宝实名认证失败，可选择第二种实名认证方式：港澳台（大陆身份证也可以），上传身份证照片，预计一个工作日等待审核通过后即可认证成功；',\n",
       " '审核照片要求：第一张为【身份证件个人信息页照片】；',\n",
       " '第二张为人证合一手持身份证个人信息页自拍照，确保证件信息展示完整、清晰无遮挡，个人五官展示完整；',\n",
       " '第三张为【身份证国徽面】，请确保证件四角边际展示完整，上下左右均有留白。',\n",
       " '实名认证只能用支付宝吗 $$ 没有支付宝/支付宝实名认证失败，可选择第二种实名认证方式：港澳台（大陆身份证也可以），上传身份证照片，预计一个工作日等待审核通过后即可认证成功；',\n",
       " '审核照片要求：第一张为【身份证件个人信息页照片】；',\n",
       " '第二张为人证合一手持身份证个人信息页自拍照，确保证件信息展示完整、清晰无遮挡，个人五官展示完整；',\n",
       " '第三张为【身份证国徽面】，请确保证件四角边际展示完整，上下左右均有留白。',\n",
       " '为什么是支付宝认证 $$ 没有支付宝/支付宝实名认证失败，可选择第二种实名认证方式：港澳台（大陆身份证也可以），上传身份证照片，预计一个工作日等待审核通过后即可认证成功；',\n",
       " '审核照片要求：第一张为【身份证件个人信息页照片】；',\n",
       " '第二张为人证合一手持身份证个人信息页自拍照，确保证件信息展示完整、清晰无遮挡，个人五官展示完整；',\n",
       " '第三张为【身份证国徽面】，请确保证件四角边际展示完整，上下左右均有留白。',\n",
       " '人工实名 $$ 没有支付宝/支付宝实名认证失败，可选择第二种实名认证方式：港澳台（大陆身份证也可以），上传身份证照片，预计一个工作日等待审核通过后即可认证成功；',\n",
       " '审核照片要求：第一张为【身份证件个人信息页照片】；',\n",
       " '第二张为人证合一手持身份证个人信息页自拍照，确保证件信息展示完整、清晰无遮挡，个人五官展示完整；',\n",
       " '第三张为【身份证国徽面】，请确保证件四角边际展示完整，上下左右均有留白。',\n",
       " '皮皮实名认证只能用支付宝认证 $$ 没有支付宝/支付宝实名认证失败，可选择第二种实名认证方式：港澳台（大陆身份证也可以），上传身份证照片，预计一个工作日等待审核通过后即可认证成功；',\n",
       " '审核照片要求：第一张为【身份证件个人信息页照片】；',\n",
       " '第二张为人证合一手持身份证个人信息页自拍照，确保证件信息展示完整、清晰无遮挡，个人五官展示完整；',\n",
       " '第三张为【身份证国徽面】，请确保证件四角边际展示完整，上下左右均有留白。',\n",
       " '为啥实名认证失败呀 $$ 没有支付宝/支付宝实名认证失败，可选择第二种实名认证方式：港澳台（大陆身份证也可以），上传身份证照片，预计一个工作日等待审核通过后即可认证成功；',\n",
       " '审核照片要求：第一张为【身份证件个人信息页照片】；',\n",
       " '第二张为人证合一手持身份证个人信息页自拍照，确保证件信息展示完整、清晰无遮挡，个人五官展示完整；',\n",
       " '第三张为【身份证国徽面】，请确保证件四角边际展示完整，上下左右均有留白。',\n",
       " '实名验证失败是怎么回事 $$ 没有支付宝/支付宝实名认证失败，可选择第二种实名认证方式：港澳台（大陆身份证也可以），上传身份证照片，预计一个工作日等待审核通过后即可认证成功；',\n",
       " '审核照片要求：第一张为【身份证件个人信息页照片】；',\n",
       " '第二张为人证合一手持身份证个人信息页自拍照，确保证件信息展示完整、清晰无遮挡，个人五官展示完整；',\n",
       " '第三张为【身份证国徽面】，请确保证件四角边际展示完整，上下左右均有留白。',\n",
       " '没有支付宝怎么办 $$ 没有支付宝/支付宝实名认证失败，可选择第二种实名认证方式：港澳台（大陆身份证也可以），上传身份证照片，预计一个工作日等待审核通过后即可认证成功；',\n",
       " '审核照片要求：第一张为【身份证件个人信息页照片】；',\n",
       " '第二张为人证合一手持身份证个人信息页自拍照，确保证件信息展示完整、清晰无遮挡，个人五官展示完整；',\n",
       " '第三张为【身份证国徽面】，请确保证件四角边际展示完整，上下左右均有留白。']"
      ]
     },
     "execution_count": 63,
     "metadata": {},
     "output_type": "execute_result"
    }
   ],
   "source": [
    "# 原生 ChineseTextSplitter 实现\n",
    "import re\n",
    "from typing import List\n",
    "from langchain.text_splitter import CharacterTextSplitter\n",
    "\n",
    "\n",
    "sentence_size = 100\n",
    "\n",
    "\n",
    "def split_text(text: str) -> List[str]:  # 此处需要进一步优化逻辑\n",
    "\n",
    "    text = re.sub(r'([;；.!?。！？\\?])([^”’])', r\"\\1\\n\\2\", text)  # 单字符断句符\n",
    "    text = re.sub(r'(\\.{6})([^\"’”」』])', r\"\\1\\n\\2\", text)  # 英文省略号\n",
    "    text = re.sub(r'(\\…{2})([^\"’”」』])', r\"\\1\\n\\2\", text)  # 中文省略号\n",
    "    text = re.sub(\n",
    "        r'([;；!?。！？\\?][\"’”」』]{0,2})([^;；!?，。！？\\?])', r'\\1\\n\\2', text)\n",
    "    # 如果双引号前有终止符，那么双引号才是句子的终点，把分句符\\n放到双引号后，注意前面的几句都小心保留了双引号\n",
    "    text = text.rstrip()  # 段尾如果有多余的\\n就去掉它\n",
    "    # 很多规则中会考虑分号;，但是这里我把它忽略不计，破折号、英文双引号等同样忽略，需要的再做些简单调整即可。\n",
    "    ls = [i for i in text.split(\"\\n\") if i]\n",
    "    for ele in ls:\n",
    "        if len(ele) > sentence_size:\n",
    "            ele1 = re.sub(r'([,，.][\"’”」』]{0,2})([^,，.])', r'\\1\\n\\2', ele)\n",
    "            ele1_ls = ele1.split(\"\\n\")\n",
    "            for ele_ele1 in ele1_ls:\n",
    "                if len(ele_ele1) > sentence_size:\n",
    "                    ele_ele2 = re.sub(\n",
    "                        r'([\\n]{1,}| {2,}[\"’”」』]{0,2})([^\\s])', r'\\1\\n\\2', ele_ele1)\n",
    "                    ele2_ls = ele_ele2.split(\"\\n\")\n",
    "                    for ele_ele2 in ele2_ls:\n",
    "                        if len(ele_ele2) > sentence_size:\n",
    "                            ele_ele3 = re.sub(\n",
    "                                '( [\"’”」』]{0,2})([^ ])', r'\\1\\n\\2', ele_ele2)\n",
    "                            ele2_id = ele2_ls.index(ele_ele2)\n",
    "                            ele2_ls = ele2_ls[:ele2_id] + [i for i in ele_ele3.split(\"\\n\") if i] + ele2_ls[\n",
    "                                ele2_id + 1:]\n",
    "                    ele_id = ele1_ls.index(ele_ele1)\n",
    "                    ele1_ls = ele1_ls[:ele_id] + \\\n",
    "                        [i for i in ele2_ls if i] + ele1_ls[ele_id + 1:]\n",
    "\n",
    "            id = ls.index(ele)\n",
    "            ls = ls[:id] + [i for i in ele1_ls if i] + ls[id + 1:]\n",
    "    return ls\n",
    "\n",
    "\n",
    "lines = []\n",
    "with open(r'./data/splitter/kefuqa-02.txt', 'r', encoding='utf-8') as fr:\n",
    "    lines = fr.readlines()\n",
    "\n",
    "\n",
    "content = '\\n'.join(lines)\n",
    "\n",
    "split_text(content)\n"
   ]
  },
  {
   "cell_type": "code",
   "execution_count": 65,
   "metadata": {},
   "outputs": [
    {
     "data": {
      "text/plain": [
       "['实名认证：实名认证失败 $$ 没有支付宝/支付宝实名认证失败，可选择第二种实名认证方式：港澳台（大陆身份证也可以），上传身份证照片，预计一个工作日等待审核通过后即可认证成功；审核照片要求：第一张为【身份证件个人信息页照片】；第二张为人证合一手持身份证个人信息页自拍照，确保证件信息展示完整、清晰无遮挡，个人五官展示完整；第三张为【身份证国徽面】，请确保证件四角边际展示完整，上下左右均有留白。',\n",
       " '实名失败 $$ 没有支付宝/支付宝实名认证失败，可选择第二种实名认证方式：港澳台（大陆身份证也可以），上传身份证照片，预计一个工作日等待审核通过后即可认证成功；审核照片要求：第一张为【身份证件个人信息页照片】；第二张为人证合一手持身份证个人信息页自拍照，确保证件信息展示完整、清晰无遮挡，个人五官展示完整；第三张为【身份证国徽面】，请确保证件四角边际展示完整，上下左右均有留白。',\n",
       " '能不用支付宝认认证吗 $$ 没有支付宝/支付宝实名认证失败，可选择第二种实名认证方式：港澳台（大陆身份证也可以），上传身份证照片，预计一个工作日等待审核通过后即可认证成功；审核照片要求：第一张为【身份证件个人信息页照片】；第二张为人证合一手持身份证个人信息页自拍照，确保证件信息展示完整、清晰无遮挡，个人五官展示完整；第三张为【身份证国徽面】，请确保证件四角边际展示完整，上下左右均有留白。',\n",
       " '为什么实名认证过不去人脸 $$ 没有支付宝/支付宝实名认证失败，可选择第二种实名认证方式：港澳台（大陆身份证也可以），上传身份证照片，预计一个工作日等待审核通过后即可认证成功；审核照片要求：第一张为【身份证件个人信息页照片】；第二张为人证合一手持身份证个人信息页自拍照，确保证件信息展示完整、清晰无遮挡，个人五官展示完整；第三张为【身份证国徽面】，请确保证件四角边际展示完整，上下左右均有留白。',\n",
       " '为什么身份验证失败 $$ 没有支付宝/支付宝实名认证失败，可选择第二种实名认证方式：港澳台（大陆身份证也可以），上传身份证照片，预计一个工作日等待审核通过后即可认证成功；审核照片要求：第一张为【身份证件个人信息页照片】；第二张为人证合一手持身份证个人信息页自拍照，确保证件信息展示完整、清晰无遮挡，个人五官展示完整；第三张为【身份证国徽面】，请确保证件四角边际展示完整，上下左右均有留白。',\n",
       " '实名认证失败啥意思 $$ 没有支付宝/支付宝实名认证失败，可选择第二种实名认证方式：港澳台（大陆身份证也可以），上传身份证照片，预计一个工作日等待审核通过后即可认证成功；审核照片要求：第一张为【身份证件个人信息页照片】；第二张为人证合一手持身份证个人信息页自拍照，确保证件信息展示完整、清晰无遮挡，个人五官展示完整；第三张为【身份证国徽面】，请确保证件四角边际展示完整，上下左右均有留白。',\n",
       " '我可以不用人脸识别吗 $$ 没有支付宝/支付宝实名认证失败，可选择第二种实名认证方式：港澳台（大陆身份证也可以），上传身份证照片，预计一个工作日等待审核通过后即可认证成功；审核照片要求：第一张为【身份证件个人信息页照片】；第二张为人证合一手持身份证个人信息页自拍照，确保证件信息展示完整、清晰无遮挡，个人五官展示完整；第三张为【身份证国徽面】，请确保证件四角边际展示完整，上下左右均有留白。',\n",
       " '实名认证我刚成年，然后支付宝还没有绑定，该怎么整 $$ 没有支付宝/支付宝实名认证失败，可选择第二种实名认证方式：港澳台（大陆身份证也可以），上传身份证照片，预计一个工作日等待审核通过后即可认证成功；审核照片要求：第一张为【身份证件个人信息页照片】；第二张为人证合一手持身份证个人信息页自拍照，确保证件信息展示完整、清晰无遮挡，个人五官展示完整；第三张为【身份证国徽面】，请确保证件四角边际展示完整，上下左右均有留白。',\n",
       " '实名认证只能用支付宝吗 $$ 没有支付宝/支付宝实名认证失败，可选择第二种实名认证方式：港澳台（大陆身份证也可以），上传身份证照片，预计一个工作日等待审核通过后即可认证成功；审核照片要求：第一张为【身份证件个人信息页照片】；第二张为人证合一手持身份证个人信息页自拍照，确保证件信息展示完整、清晰无遮挡，个人五官展示完整；第三张为【身份证国徽面】，请确保证件四角边际展示完整，上下左右均有留白。',\n",
       " '为什么是支付宝认证 $$ 没有支付宝/支付宝实名认证失败，可选择第二种实名认证方式：港澳台（大陆身份证也可以），上传身份证照片，预计一个工作日等待审核通过后即可认证成功；审核照片要求：第一张为【身份证件个人信息页照片】；第二张为人证合一手持身份证个人信息页自拍照，确保证件信息展示完整、清晰无遮挡，个人五官展示完整；第三张为【身份证国徽面】，请确保证件四角边际展示完整，上下左右均有留白。',\n",
       " '人工实名 $$ 没有支付宝/支付宝实名认证失败，可选择第二种实名认证方式：港澳台（大陆身份证也可以），上传身份证照片，预计一个工作日等待审核通过后即可认证成功；审核照片要求：第一张为【身份证件个人信息页照片】；第二张为人证合一手持身份证个人信息页自拍照，确保证件信息展示完整、清晰无遮挡，个人五官展示完整；第三张为【身份证国徽面】，请确保证件四角边际展示完整，上下左右均有留白。',\n",
       " '皮皮实名认证只能用支付宝认证 $$ 没有支付宝/支付宝实名认证失败，可选择第二种实名认证方式：港澳台（大陆身份证也可以），上传身份证照片，预计一个工作日等待审核通过后即可认证成功；审核照片要求：第一张为【身份证件个人信息页照片】；第二张为人证合一手持身份证个人信息页自拍照，确保证件信息展示完整、清晰无遮挡，个人五官展示完整；第三张为【身份证国徽面】，请确保证件四角边际展示完整，上下左右均有留白。',\n",
       " '为啥实名认证失败呀 $$ 没有支付宝/支付宝实名认证失败，可选择第二种实名认证方式：港澳台（大陆身份证也可以），上传身份证照片，预计一个工作日等待审核通过后即可认证成功；审核照片要求：第一张为【身份证件个人信息页照片】；第二张为人证合一手持身份证个人信息页自拍照，确保证件信息展示完整、清晰无遮挡，个人五官展示完整；第三张为【身份证国徽面】，请确保证件四角边际展示完整，上下左右均有留白。',\n",
       " '实名验证失败是怎么回事 $$ 没有支付宝/支付宝实名认证失败，可选择第二种实名认证方式：港澳台（大陆身份证也可以），上传身份证照片，预计一个工作日等待审核通过后即可认证成功；审核照片要求：第一张为【身份证件个人信息页照片】；第二张为人证合一手持身份证个人信息页自拍照，确保证件信息展示完整、清晰无遮挡，个人五官展示完整；第三张为【身份证国徽面】，请确保证件四角边际展示完整，上下左右均有留白。',\n",
       " '没有支付宝怎么办 $$ 没有支付宝/支付宝实名认证失败，可选择第二种实名认证方式：港澳台（大陆身份证也可以），上传身份证照片，预计一个工作日等待审核通过后即可认证成功；审核照片要求：第一张为【身份证件个人信息页照片】；第二张为人证合一手持身份证个人信息页自拍照，确保证件信息展示完整、清晰无遮挡，个人五官展示完整；第三张为【身份证国徽面】，请确保证件四角边际展示完整，上下左右均有留白。']"
      ]
     },
     "execution_count": 65,
     "metadata": {},
     "output_type": "execute_result"
    }
   ],
   "source": [
    "# 自定义 TextSplitter 实现\n",
    "def split_text_2(text: str) -> List[str]:\n",
    "    return [i.strip() for i in text.strip().split(\"\\n\\n\") if i]\n",
    "\n",
    "\n",
    "lines = []\n",
    "with open(r'./data/splitter/kefuqa-02.txt', 'r', encoding='utf-8') as fr:\n",
    "    lines = fr.readlines()\n",
    "\n",
    "\n",
    "content = '\\n'.join(lines)\n",
    "\n",
    "split_text_2(content)\n"
   ]
  },
  {
   "cell_type": "code",
   "execution_count": null,
   "metadata": {},
   "outputs": [],
   "source": []
  },
  {
   "cell_type": "code",
   "execution_count": 74,
   "metadata": {},
   "outputs": [],
   "source": [
    "# 测试 langchain-ChatGLM 向量化逻辑\n",
    "# https://python.langchain.com/docs/modules/data_connection/vectorstores/integrations/faiss\n",
    "from langchain.text_splitter import CharacterTextSplitter\n",
    "import re\n",
    "from typing import List\n",
    "\n",
    "\n",
    "SENTENCE_SIZE = 100\n",
    "\n",
    "\n",
    "class ChineseTextSplitter(CharacterTextSplitter):\n",
    "    def __init__(self, pdf: bool = False, sentence_size: int = SENTENCE_SIZE, **kwargs):\n",
    "        super().__init__(**kwargs)\n",
    "        self.pdf = pdf\n",
    "        self.sentence_size = sentence_size\n",
    "\n",
    "    def split_text1(self, text: str) -> List[str]:\n",
    "        if self.pdf:\n",
    "            text = re.sub(r\"\\n{3,}\", \"\\n\", text)\n",
    "            text = re.sub('\\s', ' ', text)\n",
    "            text = text.replace(\"\\n\\n\", \"\")\n",
    "        sent_sep_pattern = re.compile(\n",
    "            '([﹒﹔﹖﹗．。！？][\"’”」』]{0,2}|(?=[\"‘“「『]{1,2}|$))')  # del ：；\n",
    "        sent_list = []\n",
    "        for ele in sent_sep_pattern.split(text):\n",
    "            if sent_sep_pattern.match(ele) and sent_list:\n",
    "                sent_list[-1] += ele\n",
    "            elif ele:\n",
    "                sent_list.append(ele)\n",
    "        return sent_list\n",
    "\n",
    "    def split_text2(self, text: str) -> List[str]:  # 此处需要进一步优化逻辑\n",
    "        if self.pdf:\n",
    "            text = re.sub(r\"\\n{3,}\", r\"\\n\", text)\n",
    "            text = re.sub('\\s', \" \", text)\n",
    "            text = re.sub(\"\\n\\n\", \"\", text)\n",
    "\n",
    "        text = re.sub(r'([;；.!?。！？\\?])([^”’])', r\"\\1\\n\\2\", text)  # 单字符断句符\n",
    "        text = re.sub(r'(\\.{6})([^\"’”」』])', r\"\\1\\n\\2\", text)  # 英文省略号\n",
    "        text = re.sub(r'(\\…{2})([^\"’”」』])', r\"\\1\\n\\2\", text)  # 中文省略号\n",
    "        text = re.sub(\n",
    "            r'([;；!?。！？\\?][\"’”」』]{0,2})([^;；!?，。！？\\?])', r'\\1\\n\\2', text)\n",
    "        # 如果双引号前有终止符，那么双引号才是句子的终点，把分句符\\n放到双引号后，注意前面的几句都小心保留了双引号\n",
    "        text = text.rstrip()  # 段尾如果有多余的\\n就去掉它\n",
    "        # 很多规则中会考虑分号;，但是这里我把它忽略不计，破折号、英文双引号等同样忽略，需要的再做些简单调整即可。\n",
    "        ls = [i for i in text.split(\"\\n\") if i]\n",
    "        for ele in ls:\n",
    "            if len(ele) > self.sentence_size:\n",
    "                ele1 = re.sub(r'([,，.][\"’”」』]{0,2})([^,，.])', r'\\1\\n\\2', ele)\n",
    "                ele1_ls = ele1.split(\"\\n\")\n",
    "                for ele_ele1 in ele1_ls:\n",
    "                    if len(ele_ele1) > self.sentence_size:\n",
    "                        ele_ele2 = re.sub(\n",
    "                            r'([\\n]{1,}| {2,}[\"’”」』]{0,2})([^\\s])', r'\\1\\n\\2', ele_ele1)\n",
    "                        ele2_ls = ele_ele2.split(\"\\n\")\n",
    "                        for ele_ele2 in ele2_ls:\n",
    "                            if len(ele_ele2) > self.sentence_size:\n",
    "                                ele_ele3 = re.sub(\n",
    "                                    '( [\"’”」』]{0,2})([^ ])', r'\\1\\n\\2', ele_ele2)\n",
    "                                ele2_id = ele2_ls.index(ele_ele2)\n",
    "                                ele2_ls = ele2_ls[:ele2_id] + [i for i in ele_ele3.split(\"\\n\") if i] + ele2_ls[\n",
    "                                    ele2_id + 1:]\n",
    "                        ele_id = ele1_ls.index(ele_ele1)\n",
    "                        ele1_ls = ele1_ls[:ele_id] + \\\n",
    "                            [i for i in ele2_ls if i] + ele1_ls[ele_id + 1:]\n",
    "\n",
    "                id = ls.index(ele)\n",
    "                ls = ls[:id] + [i for i in ele1_ls if i] + ls[id + 1:]\n",
    "        return ls\n",
    "\n",
    "    # 自定义结构，避免错误拆分\n",
    "    def split_text(self, text: str) -> List[str]:\n",
    "        return [i.strip() for i in text.strip().split(\"\\n\\n\") if i]\n"
   ]
  },
  {
   "cell_type": "code",
   "execution_count": 76,
   "metadata": {},
   "outputs": [
    {
     "data": {
      "text/plain": [
       "[Document(page_content='实名认证：实名认证失败 $$ 没有支付宝/支付宝实名认证失败，可选择第二种实名认证方式：港澳台（大陆身份证也可以），上传身份证照片，预计一个工作日等待审核通过后即可认证成功；审核照片要求：第一张为【身份证件个人信息页照片】；第二张为人证合一手持身份证个人信息页自拍照，确保证件信息展示完整、清晰无遮挡，个人五官展示完整；第三张为【身份证国徽面】，请确保证件四角边际展示完整，上下左右均有留白。', metadata={'source': './data/splitter/kefuqa-02.txt'}),\n",
       " Document(page_content='实名失败 $$ 没有支付宝/支付宝实名认证失败，可选择第二种实名认证方式：港澳台（大陆身份证也可以），上传身份证照片，预计一个工作日等待审核通过后即可认证成功；审核照片要求：第一张为【身份证件个人信息页照片】；第二张为人证合一手持身份证个人信息页自拍照，确保证件信息展示完整、清晰无遮挡，个人五官展示完整；第三张为【身份证国徽面】，请确保证件四角边际展示完整，上下左右均有留白。', metadata={'source': './data/splitter/kefuqa-02.txt'}),\n",
       " Document(page_content='能不用支付宝认认证吗 $$ 没有支付宝/支付宝实名认证失败，可选择第二种实名认证方式：港澳台（大陆身份证也可以），上传身份证照片，预计一个工作日等待审核通过后即可认证成功；审核照片要求：第一张为【身份证件个人信息页照片】；第二张为人证合一手持身份证个人信息页自拍照，确保证件信息展示完整、清晰无遮挡，个人五官展示完整；第三张为【身份证国徽面】，请确保证件四角边际展示完整，上下左右均有留白。', metadata={'source': './data/splitter/kefuqa-02.txt'})]"
      ]
     },
     "execution_count": 76,
     "metadata": {},
     "output_type": "execute_result"
    }
   ],
   "source": [
    "from langchain.document_loaders import TextLoader\n",
    "\n",
    "\n",
    "textsplitter = ChineseTextSplitter(pdf=False)\n",
    "\n",
    "loader = TextLoader('./data/splitter/kefuqa-02.txt', encoding='utf-8')\n",
    "docs = loader.load_and_split(text_splitter=textsplitter)\n",
    "\n",
    "docs[:3]\n"
   ]
  },
  {
   "cell_type": "code",
   "execution_count": null,
   "metadata": {},
   "outputs": [],
   "source": [
    "# 依赖 CUDA 环境\n",
    "from langchain.embeddings.huggingface import HuggingFaceEmbeddings\n",
    "from langchain.vectorstores import FAISS\n",
    "\n",
    "\n",
    "embeddings = HuggingFaceEmbeddings(model_name='GanymedeNil/text2vec-large-chinese',\n",
    "                                   model_kwargs={'device': 'cuda'})\n",
    "\n",
    "v_store = FAISS.from_documents(docs, embeddings)\n"
   ]
  },
  {
   "cell_type": "code",
   "execution_count": 79,
   "metadata": {},
   "outputs": [
    {
     "name": "stderr",
     "output_type": "stream",
     "text": [
      "Downloading (…)nce_bert_config.json: 100%|██████████| 53.0/53.0 [00:00<00:00, 34.6kB/s]\n",
      "Downloading (…)cial_tokens_map.json: 100%|██████████| 239/239 [00:00<00:00, 218kB/s]\n",
      "Downloading (…)a8e1d/tokenizer.json: 100%|██████████| 466k/466k [00:00<00:00, 2.11MB/s]\n",
      "Downloading (…)okenizer_config.json: 100%|██████████| 363/363 [00:00<00:00, 256kB/s]\n",
      "Downloading (…)8e1d/train_script.py: 100%|██████████| 13.1k/13.1k [00:00<00:00, 12.3MB/s]\n",
      "Downloading (…)b20bca8e1d/vocab.txt: 100%|██████████| 232k/232k [00:00<00:00, 1.30MB/s]\n",
      "Downloading (…)bca8e1d/modules.json: 100%|██████████| 349/349 [00:00<00:00, 717kB/s]\n"
     ]
    }
   ],
   "source": [
    "# 这里改用 HuggingFaceEmbeddings 实现\n",
    "from langchain.embeddings.huggingface import HuggingFaceEmbeddings\n",
    "from langchain.vectorstores import FAISS\n",
    "\n",
    "\n",
    "embeddings = HuggingFaceEmbeddings()\n",
    "\n",
    "v_store = FAISS.from_documents(docs, embeddings)\n"
   ]
  },
  {
   "cell_type": "code",
   "execution_count": 84,
   "metadata": {},
   "outputs": [
    {
     "data": {
      "text/plain": [
       "[(Document(page_content='实名认证：实名认证失败 $$ 没有支付宝/支付宝实名认证失败，可选择第二种实名认证方式：港澳台（大陆身份证也可以），上传身份证照片，预计一个工作日等待审核通过后即可认证成功；审核照片要求：第一张为【身份证件个人信息页照片】；第二张为人证合一手持身份证个人信息页自拍照，确保证件信息展示完整、清晰无遮挡，个人五官展示完整；第三张为【身份证国徽面】，请确保证件四角边际展示完整，上下左右均有留白。', metadata={'source': './data/splitter/kefuqa-02.txt'}),\n",
       "  0.96861464),\n",
       " (Document(page_content='人工实名 $$ 没有支付宝/支付宝实名认证失败，可选择第二种实名认证方式：港澳台（大陆身份证也可以），上传身份证照片，预计一个工作日等待审核通过后即可认证成功；审核照片要求：第一张为【身份证件个人信息页照片】；第二张为人证合一手持身份证个人信息页自拍照，确保证件信息展示完整、清晰无遮挡，个人五官展示完整；第三张为【身份证国徽面】，请确保证件四角边际展示完整，上下左右均有留白。', metadata={'source': './data/splitter/kefuqa-02.txt'}),\n",
       "  0.9862678),\n",
       " (Document(page_content='为什么实名认证过不去人脸 $$ 没有支付宝/支付宝实名认证失败，可选择第二种实名认证方式：港澳台（大陆身份证也可以），上传身份证照片，预计一个工作日等待审核通过后即可认证成功；审核照片要求：第一张为【身份证件个人信息页照片】；第二张为人证合一手持身份证个人信息页自拍照，确保证件信息展示完整、清晰无遮挡，个人五官展示完整；第三张为【身份证国徽面】，请确保证件四角边际展示完整，上下左右均有留白。', metadata={'source': './data/splitter/kefuqa-02.txt'}),\n",
       "  1.0010777),\n",
       " (Document(page_content='实名失败 $$ 没有支付宝/支付宝实名认证失败，可选择第二种实名认证方式：港澳台（大陆身份证也可以），上传身份证照片，预计一个工作日等待审核通过后即可认证成功；审核照片要求：第一张为【身份证件个人信息页照片】；第二张为人证合一手持身份证个人信息页自拍照，确保证件信息展示完整、清晰无遮挡，个人五官展示完整；第三张为【身份证国徽面】，请确保证件四角边际展示完整，上下左右均有留白。', metadata={'source': './data/splitter/kefuqa-02.txt'}),\n",
       "  1.0190004)]"
      ]
     },
     "execution_count": 84,
     "metadata": {},
     "output_type": "execute_result"
    }
   ],
   "source": [
    "v_store.similarity_search_with_score('实名认证可咋整？')\n"
   ]
  },
  {
   "cell_type": "code",
   "execution_count": 86,
   "metadata": {},
   "outputs": [
    {
     "data": {
      "text/plain": [
       "[(Document(page_content='能不用支付宝认认证吗 $$ 没有支付宝/支付宝实名认证失败，可选择第二种实名认证方式：港澳台（大陆身份证也可以），上传身份证照片，预计一个工作日等待审核通过后即可认证成功；审核照片要求：第一张为【身份证件个人信息页照片】；第二张为人证合一手持身份证个人信息页自拍照，确保证件信息展示完整、清晰无遮挡，个人五官展示完整；第三张为【身份证国徽面】，请确保证件四角边际展示完整，上下左右均有留白。', metadata={'source': './data/splitter/kefuqa-02.txt'}),\n",
       "  0.91896945),\n",
       " (Document(page_content='我可以不用人脸识别吗 $$ 没有支付宝/支付宝实名认证失败，可选择第二种实名认证方式：港澳台（大陆身份证也可以），上传身份证照片，预计一个工作日等待审核通过后即可认证成功；审核照片要求：第一张为【身份证件个人信息页照片】；第二张为人证合一手持身份证个人信息页自拍照，确保证件信息展示完整、清晰无遮挡，个人五官展示完整；第三张为【身份证国徽面】，请确保证件四角边际展示完整，上下左右均有留白。', metadata={'source': './data/splitter/kefuqa-02.txt'}),\n",
       "  0.9803553),\n",
       " (Document(page_content='为什么实名认证过不去人脸 $$ 没有支付宝/支付宝实名认证失败，可选择第二种实名认证方式：港澳台（大陆身份证也可以），上传身份证照片，预计一个工作日等待审核通过后即可认证成功；审核照片要求：第一张为【身份证件个人信息页照片】；第二张为人证合一手持身份证个人信息页自拍照，确保证件信息展示完整、清晰无遮挡，个人五官展示完整；第三张为【身份证国徽面】，请确保证件四角边际展示完整，上下左右均有留白。', metadata={'source': './data/splitter/kefuqa-02.txt'}),\n",
       "  0.9858098),\n",
       " (Document(page_content='为什么身份验证失败 $$ 没有支付宝/支付宝实名认证失败，可选择第二种实名认证方式：港澳台（大陆身份证也可以），上传身份证照片，预计一个工作日等待审核通过后即可认证成功；审核照片要求：第一张为【身份证件个人信息页照片】；第二张为人证合一手持身份证个人信息页自拍照，确保证件信息展示完整、清晰无遮挡，个人五官展示完整；第三张为【身份证国徽面】，请确保证件四角边际展示完整，上下左右均有留白。', metadata={'source': './data/splitter/kefuqa-02.txt'}),\n",
       "  1.0390061)]"
      ]
     },
     "execution_count": 86,
     "metadata": {},
     "output_type": "execute_result"
    }
   ],
   "source": [
    "v_store.similarity_search_with_score('昨晚怎么都睡不好')\n"
   ]
  },
  {
   "cell_type": "code",
   "execution_count": null,
   "metadata": {},
   "outputs": [],
   "source": []
  },
  {
   "cell_type": "markdown",
   "metadata": {},
   "source": [
    "## 测试 ChatGLM2-6B 的 OpenAI Api\n"
   ]
  },
  {
   "cell_type": "code",
   "execution_count": 130,
   "metadata": {},
   "outputs": [],
   "source": [
    "import openai\n",
    "\n",
    "\n",
    "openai.api_base = 'https://u133096-8050-da7f0768.neimeng.seetacloud.com:6443/v1'\n",
    "openai.api_key = 'none'\n",
    "model_name = 'chatglm2-6b'\n"
   ]
  },
  {
   "cell_type": "code",
   "execution_count": 131,
   "metadata": {},
   "outputs": [
    {
     "data": {
      "text/plain": [
       "<OpenAIObject list at 0x273e1b05670> JSON: {\n",
       "  \"data\": [\n",
       "    {\n",
       "      \"created\": 1689649401,\n",
       "      \"id\": \"gpt-3.5-turbo\",\n",
       "      \"object\": \"model\",\n",
       "      \"owned_by\": \"owner\",\n",
       "      \"parent\": null,\n",
       "      \"permission\": null,\n",
       "      \"root\": null\n",
       "    }\n",
       "  ],\n",
       "  \"object\": \"list\"\n",
       "}"
      ]
     },
     "execution_count": 131,
     "metadata": {},
     "output_type": "execute_result"
    }
   ],
   "source": [
    "openai.Model.list()\n"
   ]
  },
  {
   "cell_type": "code",
   "execution_count": 134,
   "metadata": {},
   "outputs": [
    {
     "name": "stdout",
     "output_type": "stream",
     "text": [
      "好的，我会尽力为您提供中英文翻译。请问您需要翻译什么内容呢？"
     ]
    }
   ],
   "source": [
    "# 流式输出\n",
    "for chunk in openai.ChatCompletion.create(\n",
    "    model=model_name,\n",
    "    messages=[\n",
    "        {'role': 'system', 'content': '你来充当一个中英文翻译助手，翻译接下来的对话'},\n",
    "        {'role': 'user', 'content': '我喜欢编程'},\n",
    "    ],\n",
    "    max_tokens=128,\n",
    "    stream=True,\n",
    "):\n",
    "    if hasattr(chunk.choices[0].delta, \"content\"):\n",
    "        print(chunk.choices[0].delta.content, end=\"\", flush=True)\n"
   ]
  },
  {
   "cell_type": "code",
   "execution_count": 142,
   "metadata": {},
   "outputs": [],
   "source": [
    "response = openai.ChatCompletion.create(\n",
    "    model=model_name,\n",
    "    messages=[\n",
    "        {'role': 'user', 'content': '请以猫为题写一首歌'},\n",
    "    ],\n",
    "    max_tokens=128,\n",
    "    temperature=0.3,\n",
    ")\n"
   ]
  },
  {
   "cell_type": "code",
   "execution_count": 143,
   "metadata": {},
   "outputs": [
    {
     "data": {
      "text/plain": [
       "'Verse 1:\\n在这个世界上\\n有无数的猫\\n它们优雅、灵活、可爱\\n是人们的最爱\\n\\nChorus:\\n喵喵喵喵喵喵\\n喵喵喵喵喵\\n我们家的猫\\n它是我们家的宝贝\\n\\nVerse 2:\\n它们的身姿\\n像一只优美的舞蹈\\n它们的声音\\n像一首温柔的乐曲\\n\\nChorus:\\n喵喵喵喵喵\\n喵喵喵喵喵\\n我们家的猫\\n它是我们家的宝贝\\n\\nBridge:\\n无论何时何地\\n它们总是陪伴着我们\\n让我们感到温馨\\n它们总是给我们温暖\\n\\nChorus:\\n喵喵喵喵喵\\n喵喵喵喵喵\\n我们家的猫\\n它是我们家的宝贝\\n\\nOutro:\\n喵喵喵喵喵\\n喵喵喵喵喵\\n我们家的猫\\n它是我们家的宝贝'"
      ]
     },
     "execution_count": 143,
     "metadata": {},
     "output_type": "execute_result"
    }
   ],
   "source": [
    "response.choices[0].message.content\n"
   ]
  },
  {
   "cell_type": "code",
   "execution_count": null,
   "metadata": {},
   "outputs": [],
   "source": []
  }
 ],
 "metadata": {
  "kernelspec": {
   "display_name": "Python 3",
   "language": "python",
   "name": "python3"
  },
  "language_info": {
   "codemirror_mode": {
    "name": "ipython",
    "version": 3
   },
   "file_extension": ".py",
   "mimetype": "text/x-python",
   "name": "python",
   "nbconvert_exporter": "python",
   "pygments_lexer": "ipython3",
   "version": "3.11.3"
  },
  "orig_nbformat": 4
 },
 "nbformat": 4,
 "nbformat_minor": 2
}
